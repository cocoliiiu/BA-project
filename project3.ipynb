{
 "cells": [
  {
   "cell_type": "code",
   "execution_count": 2,
   "id": "fd93449f-1555-47b3-9dc8-9f81dfe65313",
   "metadata": {},
   "outputs": [],
   "source": [
    "import pandas as pd\n",
    "import numpy as np\n",
    "import matplotlib.pyplot as plt\n",
    "import seaborn as sns"
   ]
  },
  {
   "cell_type": "code",
   "execution_count": 3,
   "id": "11b76a90-bf72-414e-8015-4231434d0ebc",
   "metadata": {},
   "outputs": [],
   "source": [
    "df =pd.read_pickle('shared/Project-3_NYC_311_Calls.pkl')"
   ]
  },
  {
   "cell_type": "code",
   "execution_count": 4,
   "id": "f7f16a84-9d5f-495d-a8af-f06c4d0ecde7",
   "metadata": {},
   "outputs": [],
   "source": [
    "df = df.set_index(pd.DatetimeIndex(df['Created Date']))\n",
    "\n",
    "del df['Created Date']"
   ]
  },
  {
   "cell_type": "code",
   "execution_count": 4,
   "id": "527ea169-4e8b-46d5-95d8-fe59cc4f2477",
   "metadata": {},
   "outputs": [
    {
     "data": {
      "text/html": [
       "<div>\n",
       "<style scoped>\n",
       "    .dataframe tbody tr th:only-of-type {\n",
       "        vertical-align: middle;\n",
       "    }\n",
       "\n",
       "    .dataframe tbody tr th {\n",
       "        vertical-align: top;\n",
       "    }\n",
       "\n",
       "    .dataframe thead th {\n",
       "        text-align: right;\n",
       "    }\n",
       "</style>\n",
       "<table border=\"1\" class=\"dataframe\">\n",
       "  <thead>\n",
       "    <tr style=\"text-align: right;\">\n",
       "      <th></th>\n",
       "      <th>Unique Key</th>\n",
       "      <th>Agency</th>\n",
       "      <th>Agency Name</th>\n",
       "      <th>Complaint Type</th>\n",
       "      <th>Descriptor</th>\n",
       "      <th>Location Type</th>\n",
       "      <th>Incident Zip</th>\n",
       "      <th>City</th>\n",
       "      <th>Resolution Description</th>\n",
       "      <th>Borough</th>\n",
       "      <th>Open Data Channel Type</th>\n",
       "    </tr>\n",
       "    <tr>\n",
       "      <th>Created Date</th>\n",
       "      <th></th>\n",
       "      <th></th>\n",
       "      <th></th>\n",
       "      <th></th>\n",
       "      <th></th>\n",
       "      <th></th>\n",
       "      <th></th>\n",
       "      <th></th>\n",
       "      <th></th>\n",
       "      <th></th>\n",
       "      <th></th>\n",
       "    </tr>\n",
       "  </thead>\n",
       "  <tbody>\n",
       "    <tr>\n",
       "      <th>2011-04-06 00:00:00</th>\n",
       "      <td>20184537</td>\n",
       "      <td>HPD</td>\n",
       "      <td>Department of Housing Preservation and Develop...</td>\n",
       "      <td>HEATING</td>\n",
       "      <td>HEAT</td>\n",
       "      <td>RESIDENTIAL BUILDING</td>\n",
       "      <td>10002.0</td>\n",
       "      <td>NEW YORK</td>\n",
       "      <td>More than one complaint was received for this ...</td>\n",
       "      <td>MANHATTAN</td>\n",
       "      <td>UNKNOWN</td>\n",
       "    </tr>\n",
       "    <tr>\n",
       "      <th>2011-04-06 00:00:00</th>\n",
       "      <td>20184538</td>\n",
       "      <td>HPD</td>\n",
       "      <td>Department of Housing Preservation and Develop...</td>\n",
       "      <td>GENERAL CONSTRUCTION</td>\n",
       "      <td>WINDOWS</td>\n",
       "      <td>RESIDENTIAL BUILDING</td>\n",
       "      <td>11236.0</td>\n",
       "      <td>BROOKLYN</td>\n",
       "      <td>The Department of Housing Preservation and Dev...</td>\n",
       "      <td>BROOKLYN</td>\n",
       "      <td>UNKNOWN</td>\n",
       "    </tr>\n",
       "    <tr>\n",
       "      <th>2011-04-06 00:00:00</th>\n",
       "      <td>20184539</td>\n",
       "      <td>HPD</td>\n",
       "      <td>Department of Housing Preservation and Develop...</td>\n",
       "      <td>PAINT - PLASTER</td>\n",
       "      <td>WALLS</td>\n",
       "      <td>RESIDENTIAL BUILDING</td>\n",
       "      <td>10460.0</td>\n",
       "      <td>BRONX</td>\n",
       "      <td>The Department of Housing Preservation and Dev...</td>\n",
       "      <td>BRONX</td>\n",
       "      <td>UNKNOWN</td>\n",
       "    </tr>\n",
       "    <tr>\n",
       "      <th>2022-07-08 11:14:43</th>\n",
       "      <td>54732265</td>\n",
       "      <td>DSNY</td>\n",
       "      <td>Department of Sanitation</td>\n",
       "      <td>Dirty Condition</td>\n",
       "      <td>Trash</td>\n",
       "      <td>Sidewalk</td>\n",
       "      <td>10467.0</td>\n",
       "      <td>BRONX</td>\n",
       "      <td>The Department of Sanitation investigated this...</td>\n",
       "      <td>BRONX</td>\n",
       "      <td>PHONE</td>\n",
       "    </tr>\n",
       "    <tr>\n",
       "      <th>2011-04-06 00:00:00</th>\n",
       "      <td>20184540</td>\n",
       "      <td>HPD</td>\n",
       "      <td>Department of Housing Preservation and Develop...</td>\n",
       "      <td>NONCONST</td>\n",
       "      <td>VERMIN</td>\n",
       "      <td>RESIDENTIAL BUILDING</td>\n",
       "      <td>10460.0</td>\n",
       "      <td>BRONX</td>\n",
       "      <td>The Department of Housing Preservation and Dev...</td>\n",
       "      <td>BRONX</td>\n",
       "      <td>UNKNOWN</td>\n",
       "    </tr>\n",
       "    <tr>\n",
       "      <th>...</th>\n",
       "      <td>...</td>\n",
       "      <td>...</td>\n",
       "      <td>...</td>\n",
       "      <td>...</td>\n",
       "      <td>...</td>\n",
       "      <td>...</td>\n",
       "      <td>...</td>\n",
       "      <td>...</td>\n",
       "      <td>...</td>\n",
       "      <td>...</td>\n",
       "      <td>...</td>\n",
       "    </tr>\n",
       "    <tr>\n",
       "      <th>2011-04-06 00:00:00</th>\n",
       "      <td>20184532</td>\n",
       "      <td>HPD</td>\n",
       "      <td>Department of Housing Preservation and Develop...</td>\n",
       "      <td>HEATING</td>\n",
       "      <td>HEAT</td>\n",
       "      <td>RESIDENTIAL BUILDING</td>\n",
       "      <td>10468</td>\n",
       "      <td>BRONX</td>\n",
       "      <td>The Department of Housing Preservation and Dev...</td>\n",
       "      <td>BRONX</td>\n",
       "      <td>UNKNOWN</td>\n",
       "    </tr>\n",
       "    <tr>\n",
       "      <th>2011-04-06 00:00:00</th>\n",
       "      <td>20184533</td>\n",
       "      <td>HPD</td>\n",
       "      <td>Department of Housing Preservation and Develop...</td>\n",
       "      <td>HEATING</td>\n",
       "      <td>HEAT</td>\n",
       "      <td>RESIDENTIAL BUILDING</td>\n",
       "      <td>10018</td>\n",
       "      <td>NEW YORK</td>\n",
       "      <td>More than one complaint was received for this ...</td>\n",
       "      <td>MANHATTAN</td>\n",
       "      <td>UNKNOWN</td>\n",
       "    </tr>\n",
       "    <tr>\n",
       "      <th>2011-04-06 00:00:00</th>\n",
       "      <td>20184534</td>\n",
       "      <td>HPD</td>\n",
       "      <td>Department of Housing Preservation and Develop...</td>\n",
       "      <td>GENERAL CONSTRUCTION</td>\n",
       "      <td>STAIRS</td>\n",
       "      <td>RESIDENTIAL BUILDING</td>\n",
       "      <td>10460</td>\n",
       "      <td>BRONX</td>\n",
       "      <td>The Department of Housing Preservation and Dev...</td>\n",
       "      <td>BRONX</td>\n",
       "      <td>UNKNOWN</td>\n",
       "    </tr>\n",
       "    <tr>\n",
       "      <th>2011-04-06 00:00:00</th>\n",
       "      <td>20184535</td>\n",
       "      <td>HPD</td>\n",
       "      <td>Department of Housing Preservation and Develop...</td>\n",
       "      <td>GENERAL CONSTRUCTION</td>\n",
       "      <td>GAS</td>\n",
       "      <td>RESIDENTIAL BUILDING</td>\n",
       "      <td>11236</td>\n",
       "      <td>BROOKLYN</td>\n",
       "      <td>The Department of Housing Preservation and Dev...</td>\n",
       "      <td>BROOKLYN</td>\n",
       "      <td>UNKNOWN</td>\n",
       "    </tr>\n",
       "    <tr>\n",
       "      <th>2011-04-06 00:00:00</th>\n",
       "      <td>20184536</td>\n",
       "      <td>HPD</td>\n",
       "      <td>Department of Housing Preservation and Develop...</td>\n",
       "      <td>PLUMBING</td>\n",
       "      <td>WATER-LEAKS</td>\n",
       "      <td>RESIDENTIAL BUILDING</td>\n",
       "      <td>11236</td>\n",
       "      <td>BROOKLYN</td>\n",
       "      <td>The Department of Housing Preservation and Dev...</td>\n",
       "      <td>BROOKLYN</td>\n",
       "      <td>UNKNOWN</td>\n",
       "    </tr>\n",
       "  </tbody>\n",
       "</table>\n",
       "<p>33780977 rows × 11 columns</p>\n",
       "</div>"
      ],
      "text/plain": [
       "                     Unique Key Agency  \\\n",
       "Created Date                             \n",
       "2011-04-06 00:00:00    20184537    HPD   \n",
       "2011-04-06 00:00:00    20184538    HPD   \n",
       "2011-04-06 00:00:00    20184539    HPD   \n",
       "2022-07-08 11:14:43    54732265   DSNY   \n",
       "2011-04-06 00:00:00    20184540    HPD   \n",
       "...                         ...    ...   \n",
       "2011-04-06 00:00:00    20184532    HPD   \n",
       "2011-04-06 00:00:00    20184533    HPD   \n",
       "2011-04-06 00:00:00    20184534    HPD   \n",
       "2011-04-06 00:00:00    20184535    HPD   \n",
       "2011-04-06 00:00:00    20184536    HPD   \n",
       "\n",
       "                                                           Agency Name  \\\n",
       "Created Date                                                             \n",
       "2011-04-06 00:00:00  Department of Housing Preservation and Develop...   \n",
       "2011-04-06 00:00:00  Department of Housing Preservation and Develop...   \n",
       "2011-04-06 00:00:00  Department of Housing Preservation and Develop...   \n",
       "2022-07-08 11:14:43                           Department of Sanitation   \n",
       "2011-04-06 00:00:00  Department of Housing Preservation and Develop...   \n",
       "...                                                                ...   \n",
       "2011-04-06 00:00:00  Department of Housing Preservation and Develop...   \n",
       "2011-04-06 00:00:00  Department of Housing Preservation and Develop...   \n",
       "2011-04-06 00:00:00  Department of Housing Preservation and Develop...   \n",
       "2011-04-06 00:00:00  Department of Housing Preservation and Develop...   \n",
       "2011-04-06 00:00:00  Department of Housing Preservation and Develop...   \n",
       "\n",
       "                           Complaint Type   Descriptor         Location Type  \\\n",
       "Created Date                                                                   \n",
       "2011-04-06 00:00:00               HEATING         HEAT  RESIDENTIAL BUILDING   \n",
       "2011-04-06 00:00:00  GENERAL CONSTRUCTION      WINDOWS  RESIDENTIAL BUILDING   \n",
       "2011-04-06 00:00:00       PAINT - PLASTER        WALLS  RESIDENTIAL BUILDING   \n",
       "2022-07-08 11:14:43       Dirty Condition        Trash              Sidewalk   \n",
       "2011-04-06 00:00:00              NONCONST       VERMIN  RESIDENTIAL BUILDING   \n",
       "...                                   ...          ...                   ...   \n",
       "2011-04-06 00:00:00               HEATING         HEAT  RESIDENTIAL BUILDING   \n",
       "2011-04-06 00:00:00               HEATING         HEAT  RESIDENTIAL BUILDING   \n",
       "2011-04-06 00:00:00  GENERAL CONSTRUCTION       STAIRS  RESIDENTIAL BUILDING   \n",
       "2011-04-06 00:00:00  GENERAL CONSTRUCTION          GAS  RESIDENTIAL BUILDING   \n",
       "2011-04-06 00:00:00              PLUMBING  WATER-LEAKS  RESIDENTIAL BUILDING   \n",
       "\n",
       "                    Incident Zip      City  \\\n",
       "Created Date                                 \n",
       "2011-04-06 00:00:00      10002.0  NEW YORK   \n",
       "2011-04-06 00:00:00      11236.0  BROOKLYN   \n",
       "2011-04-06 00:00:00      10460.0     BRONX   \n",
       "2022-07-08 11:14:43      10467.0     BRONX   \n",
       "2011-04-06 00:00:00      10460.0     BRONX   \n",
       "...                          ...       ...   \n",
       "2011-04-06 00:00:00        10468     BRONX   \n",
       "2011-04-06 00:00:00        10018  NEW YORK   \n",
       "2011-04-06 00:00:00        10460     BRONX   \n",
       "2011-04-06 00:00:00        11236  BROOKLYN   \n",
       "2011-04-06 00:00:00        11236  BROOKLYN   \n",
       "\n",
       "                                                Resolution Description  \\\n",
       "Created Date                                                             \n",
       "2011-04-06 00:00:00  More than one complaint was received for this ...   \n",
       "2011-04-06 00:00:00  The Department of Housing Preservation and Dev...   \n",
       "2011-04-06 00:00:00  The Department of Housing Preservation and Dev...   \n",
       "2022-07-08 11:14:43  The Department of Sanitation investigated this...   \n",
       "2011-04-06 00:00:00  The Department of Housing Preservation and Dev...   \n",
       "...                                                                ...   \n",
       "2011-04-06 00:00:00  The Department of Housing Preservation and Dev...   \n",
       "2011-04-06 00:00:00  More than one complaint was received for this ...   \n",
       "2011-04-06 00:00:00  The Department of Housing Preservation and Dev...   \n",
       "2011-04-06 00:00:00  The Department of Housing Preservation and Dev...   \n",
       "2011-04-06 00:00:00  The Department of Housing Preservation and Dev...   \n",
       "\n",
       "                       Borough Open Data Channel Type  \n",
       "Created Date                                           \n",
       "2011-04-06 00:00:00  MANHATTAN                UNKNOWN  \n",
       "2011-04-06 00:00:00   BROOKLYN                UNKNOWN  \n",
       "2011-04-06 00:00:00      BRONX                UNKNOWN  \n",
       "2022-07-08 11:14:43      BRONX                  PHONE  \n",
       "2011-04-06 00:00:00      BRONX                UNKNOWN  \n",
       "...                        ...                    ...  \n",
       "2011-04-06 00:00:00      BRONX                UNKNOWN  \n",
       "2011-04-06 00:00:00  MANHATTAN                UNKNOWN  \n",
       "2011-04-06 00:00:00      BRONX                UNKNOWN  \n",
       "2011-04-06 00:00:00   BROOKLYN                UNKNOWN  \n",
       "2011-04-06 00:00:00   BROOKLYN                UNKNOWN  \n",
       "\n",
       "[33780977 rows x 11 columns]"
      ]
     },
     "execution_count": 4,
     "metadata": {},
     "output_type": "execute_result"
    }
   ],
   "source": [
    "df"
   ]
  },
  {
   "cell_type": "code",
   "execution_count": 5,
   "id": "d034aa4a-d1c2-45c8-a3f1-1d0bb3cd15fe",
   "metadata": {},
   "outputs": [
    {
     "data": {
      "text/html": [
       "<div>\n",
       "<style scoped>\n",
       "    .dataframe tbody tr th:only-of-type {\n",
       "        vertical-align: middle;\n",
       "    }\n",
       "\n",
       "    .dataframe tbody tr th {\n",
       "        vertical-align: top;\n",
       "    }\n",
       "\n",
       "    .dataframe thead th {\n",
       "        text-align: right;\n",
       "    }\n",
       "</style>\n",
       "<table border=\"1\" class=\"dataframe\">\n",
       "  <thead>\n",
       "    <tr style=\"text-align: right;\">\n",
       "      <th></th>\n",
       "      <th>Unique Key</th>\n",
       "      <th>Agency</th>\n",
       "      <th>Agency Name</th>\n",
       "      <th>Complaint Type</th>\n",
       "      <th>Descriptor</th>\n",
       "      <th>Location Type</th>\n",
       "      <th>Incident Zip</th>\n",
       "      <th>City</th>\n",
       "      <th>Resolution Description</th>\n",
       "      <th>Borough</th>\n",
       "      <th>Open Data Channel Type</th>\n",
       "    </tr>\n",
       "    <tr>\n",
       "      <th>Created Date</th>\n",
       "      <th></th>\n",
       "      <th></th>\n",
       "      <th></th>\n",
       "      <th></th>\n",
       "      <th></th>\n",
       "      <th></th>\n",
       "      <th></th>\n",
       "      <th></th>\n",
       "      <th></th>\n",
       "      <th></th>\n",
       "      <th></th>\n",
       "    </tr>\n",
       "  </thead>\n",
       "  <tbody>\n",
       "    <tr>\n",
       "      <th>2022-07-08 11:14:43</th>\n",
       "      <td>54732265</td>\n",
       "      <td>DSNY</td>\n",
       "      <td>Department of Sanitation</td>\n",
       "      <td>Dirty Condition</td>\n",
       "      <td>Trash</td>\n",
       "      <td>Sidewalk</td>\n",
       "      <td>10467.0</td>\n",
       "      <td>BRONX</td>\n",
       "      <td>The Department of Sanitation investigated this...</td>\n",
       "      <td>BRONX</td>\n",
       "      <td>PHONE</td>\n",
       "    </tr>\n",
       "    <tr>\n",
       "      <th>2022-07-08 12:07:45</th>\n",
       "      <td>54732266</td>\n",
       "      <td>DSNY</td>\n",
       "      <td>Department of Sanitation</td>\n",
       "      <td>Dirty Condition</td>\n",
       "      <td>Trash</td>\n",
       "      <td>Sidewalk</td>\n",
       "      <td>10009.0</td>\n",
       "      <td>NEW YORK</td>\n",
       "      <td>The Department of Sanitation investigated this...</td>\n",
       "      <td>MANHATTAN</td>\n",
       "      <td>MOBILE</td>\n",
       "    </tr>\n",
       "    <tr>\n",
       "      <th>2022-07-08 06:06:47</th>\n",
       "      <td>54732267</td>\n",
       "      <td>DSNY</td>\n",
       "      <td>Department of Sanitation</td>\n",
       "      <td>Dirty Condition</td>\n",
       "      <td>Trash</td>\n",
       "      <td>Sidewalk</td>\n",
       "      <td>11204.0</td>\n",
       "      <td>BROOKLYN</td>\n",
       "      <td>The Department of Sanitation investigated this...</td>\n",
       "      <td>BROOKLYN</td>\n",
       "      <td>MOBILE</td>\n",
       "    </tr>\n",
       "    <tr>\n",
       "      <th>2022-07-08 14:12:01</th>\n",
       "      <td>54732268</td>\n",
       "      <td>DSNY</td>\n",
       "      <td>Department of Sanitation</td>\n",
       "      <td>Dirty Condition</td>\n",
       "      <td>Trash</td>\n",
       "      <td>Sidewalk</td>\n",
       "      <td>10455.0</td>\n",
       "      <td>BRONX</td>\n",
       "      <td>The Department of Sanitation investigated this...</td>\n",
       "      <td>BRONX</td>\n",
       "      <td>MOBILE</td>\n",
       "    </tr>\n",
       "    <tr>\n",
       "      <th>2022-07-08 11:25:58</th>\n",
       "      <td>54732269</td>\n",
       "      <td>DSNY</td>\n",
       "      <td>Department of Sanitation</td>\n",
       "      <td>Dirty Condition</td>\n",
       "      <td>Trash</td>\n",
       "      <td>Sidewalk</td>\n",
       "      <td>10025.0</td>\n",
       "      <td>NEW YORK</td>\n",
       "      <td>The Department of Sanitation investigated this...</td>\n",
       "      <td>MANHATTAN</td>\n",
       "      <td>PHONE</td>\n",
       "    </tr>\n",
       "    <tr>\n",
       "      <th>...</th>\n",
       "      <td>...</td>\n",
       "      <td>...</td>\n",
       "      <td>...</td>\n",
       "      <td>...</td>\n",
       "      <td>...</td>\n",
       "      <td>...</td>\n",
       "      <td>...</td>\n",
       "      <td>...</td>\n",
       "      <td>...</td>\n",
       "      <td>...</td>\n",
       "      <td>...</td>\n",
       "    </tr>\n",
       "    <tr>\n",
       "      <th>2022-08-28 14:10:00</th>\n",
       "      <td>55237319</td>\n",
       "      <td>DEP</td>\n",
       "      <td>Department of Environmental Protection</td>\n",
       "      <td>Sewer</td>\n",
       "      <td>Defective/Missing Curb Piece (SC4)</td>\n",
       "      <td>NaN</td>\n",
       "      <td>11691</td>\n",
       "      <td>FAR ROCKAWAY</td>\n",
       "      <td>The Department of Environmental Protection inv...</td>\n",
       "      <td>QUEENS</td>\n",
       "      <td>PHONE</td>\n",
       "    </tr>\n",
       "    <tr>\n",
       "      <th>2022-11-21 16:06:35</th>\n",
       "      <td>56051500</td>\n",
       "      <td>HPD</td>\n",
       "      <td>Department of Housing Preservation and Develop...</td>\n",
       "      <td>APPLIANCE</td>\n",
       "      <td>REFRIGERATOR</td>\n",
       "      <td>RESIDENTIAL BUILDING</td>\n",
       "      <td>11238</td>\n",
       "      <td>BROOKLYN</td>\n",
       "      <td>The Department of Housing Preservation and Dev...</td>\n",
       "      <td>BROOKLYN</td>\n",
       "      <td>PHONE</td>\n",
       "    </tr>\n",
       "    <tr>\n",
       "      <th>2022-07-08 18:18:10</th>\n",
       "      <td>54732262</td>\n",
       "      <td>DSNY</td>\n",
       "      <td>Department of Sanitation</td>\n",
       "      <td>Dirty Condition</td>\n",
       "      <td>Trash</td>\n",
       "      <td>Sidewalk</td>\n",
       "      <td>10468</td>\n",
       "      <td>BRONX</td>\n",
       "      <td>The Department of Sanitation investigated this...</td>\n",
       "      <td>BRONX</td>\n",
       "      <td>MOBILE</td>\n",
       "    </tr>\n",
       "    <tr>\n",
       "      <th>2022-07-08 07:51:59</th>\n",
       "      <td>54732263</td>\n",
       "      <td>DSNY</td>\n",
       "      <td>Department of Sanitation</td>\n",
       "      <td>Dirty Condition</td>\n",
       "      <td>Trash</td>\n",
       "      <td>Sidewalk</td>\n",
       "      <td>10027</td>\n",
       "      <td>NEW YORK</td>\n",
       "      <td>The Department of Sanitation investigated this...</td>\n",
       "      <td>MANHATTAN</td>\n",
       "      <td>MOBILE</td>\n",
       "    </tr>\n",
       "    <tr>\n",
       "      <th>2022-07-08 23:31:31</th>\n",
       "      <td>54732264</td>\n",
       "      <td>DSNY</td>\n",
       "      <td>Department of Sanitation</td>\n",
       "      <td>Dirty Condition</td>\n",
       "      <td>Trash</td>\n",
       "      <td>Sidewalk</td>\n",
       "      <td>11207</td>\n",
       "      <td>BROOKLYN</td>\n",
       "      <td>The Department of Sanitation investigated this...</td>\n",
       "      <td>BROOKLYN</td>\n",
       "      <td>MOBILE</td>\n",
       "    </tr>\n",
       "  </tbody>\n",
       "</table>\n",
       "<p>3169777 rows × 11 columns</p>\n",
       "</div>"
      ],
      "text/plain": [
       "                     Unique Key Agency  \\\n",
       "Created Date                             \n",
       "2022-07-08 11:14:43    54732265   DSNY   \n",
       "2022-07-08 12:07:45    54732266   DSNY   \n",
       "2022-07-08 06:06:47    54732267   DSNY   \n",
       "2022-07-08 14:12:01    54732268   DSNY   \n",
       "2022-07-08 11:25:58    54732269   DSNY   \n",
       "...                         ...    ...   \n",
       "2022-08-28 14:10:00    55237319    DEP   \n",
       "2022-11-21 16:06:35    56051500    HPD   \n",
       "2022-07-08 18:18:10    54732262   DSNY   \n",
       "2022-07-08 07:51:59    54732263   DSNY   \n",
       "2022-07-08 23:31:31    54732264   DSNY   \n",
       "\n",
       "                                                           Agency Name  \\\n",
       "Created Date                                                             \n",
       "2022-07-08 11:14:43                           Department of Sanitation   \n",
       "2022-07-08 12:07:45                           Department of Sanitation   \n",
       "2022-07-08 06:06:47                           Department of Sanitation   \n",
       "2022-07-08 14:12:01                           Department of Sanitation   \n",
       "2022-07-08 11:25:58                           Department of Sanitation   \n",
       "...                                                                ...   \n",
       "2022-08-28 14:10:00             Department of Environmental Protection   \n",
       "2022-11-21 16:06:35  Department of Housing Preservation and Develop...   \n",
       "2022-07-08 18:18:10                           Department of Sanitation   \n",
       "2022-07-08 07:51:59                           Department of Sanitation   \n",
       "2022-07-08 23:31:31                           Department of Sanitation   \n",
       "\n",
       "                      Complaint Type                          Descriptor  \\\n",
       "Created Date                                                               \n",
       "2022-07-08 11:14:43  Dirty Condition                               Trash   \n",
       "2022-07-08 12:07:45  Dirty Condition                               Trash   \n",
       "2022-07-08 06:06:47  Dirty Condition                               Trash   \n",
       "2022-07-08 14:12:01  Dirty Condition                               Trash   \n",
       "2022-07-08 11:25:58  Dirty Condition                               Trash   \n",
       "...                              ...                                 ...   \n",
       "2022-08-28 14:10:00            Sewer  Defective/Missing Curb Piece (SC4)   \n",
       "2022-11-21 16:06:35        APPLIANCE                        REFRIGERATOR   \n",
       "2022-07-08 18:18:10  Dirty Condition                               Trash   \n",
       "2022-07-08 07:51:59  Dirty Condition                               Trash   \n",
       "2022-07-08 23:31:31  Dirty Condition                               Trash   \n",
       "\n",
       "                            Location Type Incident Zip          City  \\\n",
       "Created Date                                                           \n",
       "2022-07-08 11:14:43              Sidewalk      10467.0         BRONX   \n",
       "2022-07-08 12:07:45              Sidewalk      10009.0      NEW YORK   \n",
       "2022-07-08 06:06:47              Sidewalk      11204.0      BROOKLYN   \n",
       "2022-07-08 14:12:01              Sidewalk      10455.0         BRONX   \n",
       "2022-07-08 11:25:58              Sidewalk      10025.0      NEW YORK   \n",
       "...                                   ...          ...           ...   \n",
       "2022-08-28 14:10:00                   NaN        11691  FAR ROCKAWAY   \n",
       "2022-11-21 16:06:35  RESIDENTIAL BUILDING        11238      BROOKLYN   \n",
       "2022-07-08 18:18:10              Sidewalk        10468         BRONX   \n",
       "2022-07-08 07:51:59              Sidewalk        10027      NEW YORK   \n",
       "2022-07-08 23:31:31              Sidewalk        11207      BROOKLYN   \n",
       "\n",
       "                                                Resolution Description  \\\n",
       "Created Date                                                             \n",
       "2022-07-08 11:14:43  The Department of Sanitation investigated this...   \n",
       "2022-07-08 12:07:45  The Department of Sanitation investigated this...   \n",
       "2022-07-08 06:06:47  The Department of Sanitation investigated this...   \n",
       "2022-07-08 14:12:01  The Department of Sanitation investigated this...   \n",
       "2022-07-08 11:25:58  The Department of Sanitation investigated this...   \n",
       "...                                                                ...   \n",
       "2022-08-28 14:10:00  The Department of Environmental Protection inv...   \n",
       "2022-11-21 16:06:35  The Department of Housing Preservation and Dev...   \n",
       "2022-07-08 18:18:10  The Department of Sanitation investigated this...   \n",
       "2022-07-08 07:51:59  The Department of Sanitation investigated this...   \n",
       "2022-07-08 23:31:31  The Department of Sanitation investigated this...   \n",
       "\n",
       "                       Borough Open Data Channel Type  \n",
       "Created Date                                           \n",
       "2022-07-08 11:14:43      BRONX                  PHONE  \n",
       "2022-07-08 12:07:45  MANHATTAN                 MOBILE  \n",
       "2022-07-08 06:06:47   BROOKLYN                 MOBILE  \n",
       "2022-07-08 14:12:01      BRONX                 MOBILE  \n",
       "2022-07-08 11:25:58  MANHATTAN                  PHONE  \n",
       "...                        ...                    ...  \n",
       "2022-08-28 14:10:00     QUEENS                  PHONE  \n",
       "2022-11-21 16:06:35   BROOKLYN                  PHONE  \n",
       "2022-07-08 18:18:10      BRONX                 MOBILE  \n",
       "2022-07-08 07:51:59  MANHATTAN                 MOBILE  \n",
       "2022-07-08 23:31:31   BROOKLYN                 MOBILE  \n",
       "\n",
       "[3169777 rows x 11 columns]"
      ]
     },
     "execution_count": 5,
     "metadata": {},
     "output_type": "execute_result"
    }
   ],
   "source": [
    "temporary_df = df.loc['2022']\n",
    "temporary_df"
   ]
  },
  {
   "cell_type": "code",
   "execution_count": 6,
   "id": "2776e9d2-bb2a-4859-aa1b-e16b789975a1",
   "metadata": {},
   "outputs": [],
   "source": [
    "\n",
    "daily_complaints_2022 = temporary_df['Unique Key'].resample('D').count()\n"
   ]
  },
  {
   "cell_type": "code",
   "execution_count": 7,
   "id": "dc8ea388-a7f2-46c4-9d8a-4fcbb92dbb07",
   "metadata": {},
   "outputs": [],
   "source": [
    "average_daily_complaints_2022 = daily_complaints_2022.mean()"
   ]
  },
  {
   "cell_type": "code",
   "execution_count": 8,
   "id": "93e63b16-ca27-4783-9e56-33751e82203c",
   "metadata": {},
   "outputs": [
    {
     "data": {
      "text/plain": [
       "8684.320547945206"
      ]
     },
     "execution_count": 8,
     "metadata": {},
     "output_type": "execute_result"
    }
   ],
   "source": [
    "average_daily_complaints_2022"
   ]
  },
  {
   "cell_type": "code",
   "execution_count": 5,
   "id": "87d9ad31-d428-46e3-ba34-9f9bc5c49b19",
   "metadata": {},
   "outputs": [],
   "source": [
    "daily_complaints = df['Unique Key'].resample('D').count()\n",
    "max_complaints_date = daily_complaints.idxmax()"
   ]
  },
  {
   "cell_type": "code",
   "execution_count": 6,
   "id": "a62e51ab-0cd5-40df-976b-6d6e9779d055",
   "metadata": {},
   "outputs": [
    {
     "data": {
      "text/plain": [
       "Timestamp('2020-08-04 00:00:00')"
      ]
     },
     "execution_count": 6,
     "metadata": {},
     "output_type": "execute_result"
    }
   ],
   "source": [
    "max_complaints_date"
   ]
  },
  {
   "cell_type": "code",
   "execution_count": 7,
   "id": "19a718cc-54d5-4a74-8ddc-5477f5831249",
   "metadata": {},
   "outputs": [],
   "source": [
    "complaints_on_max_date = df.loc[max_complaints_date.strftime('2020-08-04')]"
   ]
  },
  {
   "cell_type": "code",
   "execution_count": 8,
   "id": "7ed82dde-28af-4c4b-bbc6-e63647573e43",
   "metadata": {},
   "outputs": [],
   "source": [
    "complaint_counts = complaints_on_max_date['Complaint Type'].value_counts()"
   ]
  },
  {
   "cell_type": "code",
   "execution_count": 9,
   "id": "4006c70a-1c79-4dc1-9ebe-158ad11040f6",
   "metadata": {},
   "outputs": [
    {
     "data": {
      "text/plain": [
       "Complaint Type\n",
       "Damaged Tree                           14863\n",
       "Noise - Residential                      982\n",
       "Request Large Bulky Item Collection      909\n",
       "Street Light Condition                   617\n",
       "Overgrown Tree/Branches                  609\n",
       "                                       ...  \n",
       "Bus Stop Shelter Placement                 1\n",
       "Unsanitary Pigeon Condition                1\n",
       "Public Payphone Complaint                  1\n",
       "For Hire Vehicle Report                    1\n",
       "Bridge Condition                           1\n",
       "Name: count, Length: 125, dtype: int64"
      ]
     },
     "execution_count": 9,
     "metadata": {},
     "output_type": "execute_result"
    }
   ],
   "source": [
    "complaint_counts"
   ]
  },
  {
   "cell_type": "code",
   "execution_count": 11,
   "id": "adc678af-5382-4c81-812c-fb17163778fb",
   "metadata": {},
   "outputs": [],
   "source": [
    "monthly_complaints = df['Unique Key'].resample('ME').count()"
   ]
  },
  {
   "cell_type": "code",
   "execution_count": 12,
   "id": "f4891c7e-ae41-4014-ace8-d63a0fc62e59",
   "metadata": {},
   "outputs": [],
   "source": [
    "monthly_complaints_by_month = monthly_complaints.groupby(monthly_complaints.index.month).sum()"
   ]
  },
  {
   "cell_type": "code",
   "execution_count": 13,
   "id": "ce91ab72-7f95-45cf-bc83-07d0bfcba7f6",
   "metadata": {},
   "outputs": [],
   "source": [
    "quietest_month = monthly_complaints_by_month.idxmin()"
   ]
  },
  {
   "cell_type": "code",
   "execution_count": 14,
   "id": "cf4f360b-b1bb-49da-b66a-027439f44554",
   "metadata": {},
   "outputs": [
    {
     "data": {
      "text/plain": [
       "12"
      ]
     },
     "execution_count": 14,
     "metadata": {},
     "output_type": "execute_result"
    }
   ],
   "source": [
    "quietest_month"
   ]
  },
  {
   "cell_type": "code",
   "execution_count": 15,
   "id": "02d0dfea-a219-4230-bc45-1a0903925863",
   "metadata": {},
   "outputs": [],
   "source": [
    "import matplotlib.pyplot as plt\n",
    "from statsmodels.tsa.seasonal import seasonal_decompose"
   ]
  },
  {
   "cell_type": "code",
   "execution_count": 16,
   "id": "8175e040-7684-4b0c-a658-1ff5f232d113",
   "metadata": {},
   "outputs": [],
   "source": [
    "result = seasonal_decompose(daily_complaints, model = 'additive') "
   ]
  },
  {
   "cell_type": "code",
   "execution_count": 17,
   "id": "3a98aef0-2828-409b-a6d1-e24e4464175d",
   "metadata": {},
   "outputs": [],
   "source": [
    "seasonal=result.seasonal"
   ]
  },
  {
   "cell_type": "code",
   "execution_count": 18,
   "id": "94dea0d1-ce76-4c8b-bbac-2bb8010483e5",
   "metadata": {},
   "outputs": [],
   "source": [
    "seasonal_value_on_date = seasonal['2020-12-25']"
   ]
  },
  {
   "cell_type": "code",
   "execution_count": 19,
   "id": "2989327f-9a8b-471d-a1e8-43ca627c7d04",
   "metadata": {},
   "outputs": [
    {
     "data": {
      "text/plain": [
       "182.69763790386236"
      ]
     },
     "execution_count": 19,
     "metadata": {},
     "output_type": "execute_result"
    }
   ],
   "source": [
    "seasonal_value_on_date"
   ]
  },
  {
   "cell_type": "code",
   "execution_count": 20,
   "id": "64f552da-c961-436d-a6a9-c5ea06bf5e27",
   "metadata": {},
   "outputs": [],
   "source": [
    "autocorrelation_lag_1 = daily_complaints.autocorr(lag=1)"
   ]
  },
  {
   "cell_type": "code",
   "execution_count": 21,
   "id": "ce3b09bb-391c-47f1-9505-8212afc1c6db",
   "metadata": {},
   "outputs": [
    {
     "data": {
      "text/plain": [
       "0.7517059728398577"
      ]
     },
     "execution_count": 21,
     "metadata": {},
     "output_type": "execute_result"
    }
   ],
   "source": [
    "autocorrelation_lag_1"
   ]
  },
  {
   "cell_type": "code",
   "execution_count": 22,
   "id": "82872c33-e875-4679-ae66-9b5fdb8f73ef",
   "metadata": {},
   "outputs": [],
   "source": [
    "df_prophet = pd.DataFrame({\n",
    "    'ds': daily_complaints.index,\n",
    "    'y': daily_complaints.values\n",
    "})"
   ]
  },
  {
   "cell_type": "code",
   "execution_count": 23,
   "id": "78c10f81-7cab-4ce6-b921-b73fe96bdba2",
   "metadata": {},
   "outputs": [],
   "source": [
    "train = df_prophet.iloc[:-90]\n",
    "test = df_prophet.iloc[-90:]"
   ]
  },
  {
   "cell_type": "code",
   "execution_count": 24,
   "id": "dc8a281a-8f72-45e9-a704-62951d25bb3d",
   "metadata": {},
   "outputs": [
    {
     "name": "stderr",
     "output_type": "stream",
     "text": [
      "/opt/conda/envs/mggy8413v2/lib/python3.11/site-packages/tqdm/auto.py:21: TqdmWarning: IProgress not found. Please update jupyter and ipywidgets. See https://ipywidgets.readthedocs.io/en/stable/user_install.html\n",
      "  from .autonotebook import tqdm as notebook_tqdm\n"
     ]
    }
   ],
   "source": [
    "from prophet import Prophet"
   ]
  },
  {
   "cell_type": "code",
   "execution_count": 25,
   "id": "712e007a-93cc-4219-915a-5038b55cfabd",
   "metadata": {},
   "outputs": [
    {
     "name": "stderr",
     "output_type": "stream",
     "text": [
      "22:52:37 - cmdstanpy - INFO - Chain [1] start processing\n",
      "22:52:40 - cmdstanpy - INFO - Chain [1] done processing\n"
     ]
    },
    {
     "data": {
      "text/plain": [
       "<prophet.forecaster.Prophet at 0x7f3af8fded50>"
      ]
     },
     "execution_count": 25,
     "metadata": {},
     "output_type": "execute_result"
    }
   ],
   "source": [
    "model = Prophet(daily_seasonality=True)\n",
    "model.fit(train)"
   ]
  },
  {
   "cell_type": "code",
   "execution_count": 26,
   "id": "2940d5fc-f271-4973-ab92-8509b22f9322",
   "metadata": {},
   "outputs": [],
   "source": [
    "future = model.make_future_dataframe(periods=90, freq='D')\n",
    "forecast = model.predict(future)"
   ]
  },
  {
   "cell_type": "code",
   "execution_count": 27,
   "id": "af644487-ef9f-4d57-a3f8-e05e7a32a197",
   "metadata": {},
   "outputs": [],
   "source": [
    "predictions = forecast[-90:]['yhat']"
   ]
  },
  {
   "cell_type": "code",
   "execution_count": 28,
   "id": "362e8747-7941-4976-9a7c-9f4f1a64a129",
   "metadata": {},
   "outputs": [],
   "source": [
    "from sklearn.metrics import mean_squared_error"
   ]
  },
  {
   "cell_type": "code",
   "execution_count": 29,
   "id": "879b96fa-3290-4c65-89d5-d3cd3a0d0586",
   "metadata": {},
   "outputs": [],
   "source": [
    "rmse = np.sqrt(mean_squared_error(test['y'], predictions))"
   ]
  },
  {
   "cell_type": "code",
   "execution_count": 30,
   "id": "eab2d9ae-4ac0-438b-be10-b077a2d8ce23",
   "metadata": {},
   "outputs": [
    {
     "data": {
      "text/plain": [
       "1229.8480710675256"
      ]
     },
     "execution_count": 30,
     "metadata": {},
     "output_type": "execute_result"
    }
   ],
   "source": [
    "rmse"
   ]
  }
 ],
 "metadata": {
  "kernelspec": {
   "display_name": "Python [conda env:mggy8413v2]",
   "language": "python",
   "name": "conda-env-mggy8413v2-py"
  },
  "language_info": {
   "codemirror_mode": {
    "name": "ipython",
    "version": 3
   },
   "file_extension": ".py",
   "mimetype": "text/x-python",
   "name": "python",
   "nbconvert_exporter": "python",
   "pygments_lexer": "ipython3",
   "version": "3.11.7"
  }
 },
 "nbformat": 4,
 "nbformat_minor": 5
}
